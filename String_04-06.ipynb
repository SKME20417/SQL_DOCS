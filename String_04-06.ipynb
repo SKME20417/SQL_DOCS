{
 "cells": [
  {
   "cell_type": "code",
   "execution_count": 1,
   "id": "d482d5df",
   "metadata": {},
   "outputs": [],
   "source": [
    "y = 456"
   ]
  },
  {
   "cell_type": "code",
   "execution_count": 2,
   "id": "6e743185",
   "metadata": {},
   "outputs": [],
   "source": [
    "t = \"python is fun\""
   ]
  },
  {
   "cell_type": "code",
   "execution_count": 3,
   "id": "2c02ae42",
   "metadata": {},
   "outputs": [],
   "source": [
    "e = True"
   ]
  },
  {
   "cell_type": "code",
   "execution_count": 4,
   "id": "5826df32",
   "metadata": {},
   "outputs": [
    {
     "data": {
      "text/plain": [
       "str"
      ]
     },
     "execution_count": 4,
     "metadata": {},
     "output_type": "execute_result"
    }
   ],
   "source": [
    "type(t)"
   ]
  },
  {
   "cell_type": "code",
   "execution_count": 5,
   "id": "bc7cc77e",
   "metadata": {},
   "outputs": [],
   "source": [
    "u = 'machine learning'"
   ]
  },
  {
   "cell_type": "code",
   "execution_count": 6,
   "id": "838e3d8a",
   "metadata": {},
   "outputs": [
    {
     "data": {
      "text/plain": [
       "str"
      ]
     },
     "execution_count": 6,
     "metadata": {},
     "output_type": "execute_result"
    }
   ],
   "source": [
    "type(u)"
   ]
  },
  {
   "cell_type": "code",
   "execution_count": 7,
   "id": "ead465ed",
   "metadata": {},
   "outputs": [],
   "source": [
    "p = \"\"\"computer vision\"\"\""
   ]
  },
  {
   "cell_type": "code",
   "execution_count": 8,
   "id": "3382e36a",
   "metadata": {},
   "outputs": [
    {
     "data": {
      "text/plain": [
       "str"
      ]
     },
     "execution_count": 8,
     "metadata": {},
     "output_type": "execute_result"
    }
   ],
   "source": [
    "type(p)"
   ]
  },
  {
   "cell_type": "code",
   "execution_count": 9,
   "id": "6b4ca317",
   "metadata": {},
   "outputs": [],
   "source": [
    "d = '''data scinece'''"
   ]
  },
  {
   "cell_type": "code",
   "execution_count": 10,
   "id": "6bcc5030",
   "metadata": {},
   "outputs": [
    {
     "data": {
      "text/plain": [
       "str"
      ]
     },
     "execution_count": 10,
     "metadata": {},
     "output_type": "execute_result"
    }
   ],
   "source": [
    "type(d)"
   ]
  },
  {
   "cell_type": "code",
   "execution_count": 11,
   "id": "5697f398",
   "metadata": {},
   "outputs": [
    {
     "data": {
      "text/plain": [
       "'data scinece'"
      ]
     },
     "execution_count": 11,
     "metadata": {},
     "output_type": "execute_result"
    }
   ],
   "source": [
    "d"
   ]
  },
  {
   "cell_type": "code",
   "execution_count": 12,
   "id": "6debce2a",
   "metadata": {},
   "outputs": [],
   "source": [
    "l = \"data scienece 123 @345 python\""
   ]
  },
  {
   "cell_type": "code",
   "execution_count": 13,
   "id": "06669038",
   "metadata": {},
   "outputs": [
    {
     "data": {
      "text/plain": [
       "str"
      ]
     },
     "execution_count": 13,
     "metadata": {},
     "output_type": "execute_result"
    }
   ],
   "source": [
    "type(l)"
   ]
  },
  {
   "cell_type": "code",
   "execution_count": 14,
   "id": "318f1b2b",
   "metadata": {},
   "outputs": [
    {
     "data": {
      "text/plain": [
       "'data scienece 123 @345 python'"
      ]
     },
     "execution_count": 14,
     "metadata": {},
     "output_type": "execute_result"
    }
   ],
   "source": [
    "l"
   ]
  },
  {
   "cell_type": "code",
   "execution_count": 15,
   "id": "06b27d50",
   "metadata": {},
   "outputs": [
    {
     "data": {
      "text/plain": [
       "'d'"
      ]
     },
     "execution_count": 15,
     "metadata": {},
     "output_type": "execute_result"
    }
   ],
   "source": [
    "l[0]"
   ]
  },
  {
   "cell_type": "code",
   "execution_count": 16,
   "id": "1311bed1",
   "metadata": {},
   "outputs": [
    {
     "data": {
      "text/plain": [
       "'data scienece 123 @345 python'"
      ]
     },
     "execution_count": 16,
     "metadata": {},
     "output_type": "execute_result"
    }
   ],
   "source": [
    "l"
   ]
  },
  {
   "cell_type": "code",
   "execution_count": 17,
   "id": "5e469ef8",
   "metadata": {},
   "outputs": [
    {
     "data": {
      "text/plain": [
       "'d'"
      ]
     },
     "execution_count": 17,
     "metadata": {},
     "output_type": "execute_result"
    }
   ],
   "source": [
    "l[0]"
   ]
  },
  {
   "cell_type": "code",
   "execution_count": 18,
   "id": "05086c86",
   "metadata": {},
   "outputs": [
    {
     "data": {
      "text/plain": [
       "'t'"
      ]
     },
     "execution_count": 18,
     "metadata": {},
     "output_type": "execute_result"
    }
   ],
   "source": [
    "l[2]"
   ]
  },
  {
   "cell_type": "code",
   "execution_count": 19,
   "id": "a53508db",
   "metadata": {},
   "outputs": [
    {
     "data": {
      "text/plain": [
       "'e'"
      ]
     },
     "execution_count": 19,
     "metadata": {},
     "output_type": "execute_result"
    }
   ],
   "source": [
    "l[8]"
   ]
  },
  {
   "cell_type": "code",
   "execution_count": 23,
   "id": "c0c960f5",
   "metadata": {},
   "outputs": [
    {
     "data": {
      "text/plain": [
       "'n'"
      ]
     },
     "execution_count": 23,
     "metadata": {},
     "output_type": "execute_result"
    }
   ],
   "source": [
    "l[len(l)-1]"
   ]
  },
  {
   "cell_type": "code",
   "execution_count": 24,
   "id": "68a1cc69",
   "metadata": {},
   "outputs": [
    {
     "data": {
      "text/plain": [
       "'n'"
      ]
     },
     "execution_count": 24,
     "metadata": {},
     "output_type": "execute_result"
    }
   ],
   "source": [
    "l[-1]"
   ]
  },
  {
   "cell_type": "code",
   "execution_count": 25,
   "id": "dce73cee",
   "metadata": {},
   "outputs": [
    {
     "data": {
      "text/plain": [
       "'o'"
      ]
     },
     "execution_count": 25,
     "metadata": {},
     "output_type": "execute_result"
    }
   ],
   "source": [
    "l[-2]"
   ]
  },
  {
   "cell_type": "code",
   "execution_count": 26,
   "id": "df99cc4d",
   "metadata": {},
   "outputs": [
    {
     "data": {
      "text/plain": [
       "'y'"
      ]
     },
     "execution_count": 26,
     "metadata": {},
     "output_type": "execute_result"
    }
   ],
   "source": [
    "l[-5]"
   ]
  },
  {
   "cell_type": "code",
   "execution_count": 27,
   "id": "1cefc530",
   "metadata": {},
   "outputs": [
    {
     "data": {
      "text/plain": [
       "'5'"
      ]
     },
     "execution_count": 27,
     "metadata": {},
     "output_type": "execute_result"
    }
   ],
   "source": [
    "l[-8]"
   ]
  },
  {
   "cell_type": "code",
   "execution_count": 40,
   "id": "634d1628",
   "metadata": {},
   "outputs": [
    {
     "data": {
      "text/plain": [
       "'data scienece 123 @345 python'"
      ]
     },
     "execution_count": 40,
     "metadata": {},
     "output_type": "execute_result"
    }
   ],
   "source": [
    "l"
   ]
  },
  {
   "cell_type": "code",
   "execution_count": 41,
   "id": "e99e45ea",
   "metadata": {},
   "outputs": [
    {
     "data": {
      "text/plain": [
       "'t ce'"
      ]
     },
     "execution_count": 41,
     "metadata": {},
     "output_type": "execute_result"
    }
   ],
   "source": [
    "l[2:10:2]"
   ]
  },
  {
   "cell_type": "code",
   "execution_count": 42,
   "id": "bccf0709",
   "metadata": {},
   "outputs": [
    {
     "data": {
      "text/plain": [
       "'a i'"
      ]
     },
     "execution_count": 42,
     "metadata": {},
     "output_type": "execute_result"
    }
   ],
   "source": [
    "l[1:10:3]"
   ]
  },
  {
   "cell_type": "code",
   "execution_count": 31,
   "id": "7f46846b",
   "metadata": {},
   "outputs": [
    {
     "data": {
      "text/plain": [
       "'scie'"
      ]
     },
     "execution_count": 31,
     "metadata": {},
     "output_type": "execute_result"
    }
   ],
   "source": [
    "l[5:9]"
   ]
  },
  {
   "cell_type": "code",
   "execution_count": 43,
   "id": "b9315908",
   "metadata": {},
   "outputs": [
    {
     "data": {
      "text/plain": [
       "'data scienece 123 @345 python'"
      ]
     },
     "execution_count": 43,
     "metadata": {},
     "output_type": "execute_result"
    }
   ],
   "source": [
    "l"
   ]
  },
  {
   "cell_type": "code",
   "execution_count": 45,
   "id": "de9e217e",
   "metadata": {},
   "outputs": [
    {
     "data": {
      "text/plain": [
       "'aasin'"
      ]
     },
     "execution_count": 45,
     "metadata": {},
     "output_type": "execute_result"
    }
   ],
   "source": [
    "l[1:10:2]"
   ]
  },
  {
   "cell_type": "code",
   "execution_count": 47,
   "id": "f89e7577",
   "metadata": {},
   "outputs": [
    {
     "data": {
      "text/plain": [
       "'a ie '"
      ]
     },
     "execution_count": 47,
     "metadata": {},
     "output_type": "execute_result"
    }
   ],
   "source": [
    "l[1:15:3]"
   ]
  },
  {
   "cell_type": "code",
   "execution_count": 50,
   "id": "08400a4e",
   "metadata": {},
   "outputs": [
    {
     "data": {
      "text/plain": [
       "'nohtyp 543@ 32'"
      ]
     },
     "execution_count": 50,
     "metadata": {},
     "output_type": "execute_result"
    }
   ],
   "source": [
    "l[-1:-15:-1]"
   ]
  },
  {
   "cell_type": "code",
   "execution_count": 51,
   "id": "71b833c0",
   "metadata": {},
   "outputs": [
    {
     "data": {
      "text/plain": [
       "''"
      ]
     },
     "execution_count": 51,
     "metadata": {},
     "output_type": "execute_result"
    }
   ],
   "source": [
    "l[-1:-15]"
   ]
  },
  {
   "cell_type": "code",
   "execution_count": 53,
   "id": "ac31c559",
   "metadata": {},
   "outputs": [
    {
     "data": {
      "text/plain": [
       "'data scienece 123 @345 pytho'"
      ]
     },
     "execution_count": 53,
     "metadata": {},
     "output_type": "execute_result"
    }
   ],
   "source": [
    "l[0:-1]"
   ]
  },
  {
   "cell_type": "code",
   "execution_count": 54,
   "id": "7c3aca42",
   "metadata": {},
   "outputs": [
    {
     "data": {
      "text/plain": [
       "'scienece 123 @345 pyt'"
      ]
     },
     "execution_count": 54,
     "metadata": {},
     "output_type": "execute_result"
    }
   ],
   "source": [
    "l[5:-3]"
   ]
  },
  {
   "cell_type": "code",
   "execution_count": 55,
   "id": "23a1215c",
   "metadata": {},
   "outputs": [
    {
     "data": {
      "text/plain": [
       "'data scienece 123 @345 python'"
      ]
     },
     "execution_count": 55,
     "metadata": {},
     "output_type": "execute_result"
    }
   ],
   "source": [
    "l"
   ]
  },
  {
   "cell_type": "code",
   "execution_count": 56,
   "id": "75372b75",
   "metadata": {},
   "outputs": [
    {
     "data": {
      "text/plain": [
       "'123'"
      ]
     },
     "execution_count": 56,
     "metadata": {},
     "output_type": "execute_result"
    }
   ],
   "source": [
    "l[14:17]"
   ]
  },
  {
   "cell_type": "code",
   "execution_count": 76,
   "id": "4984dfb2",
   "metadata": {},
   "outputs": [
    {
     "data": {
      "text/plain": [
       "'scienece 123'"
      ]
     },
     "execution_count": 76,
     "metadata": {},
     "output_type": "execute_result"
    }
   ],
   "source": [
    "l[(len(l)-1)//2-9:(len(l)-1)//2 + 3]"
   ]
  },
  {
   "cell_type": "code",
   "execution_count": 70,
   "id": "34529b37",
   "metadata": {},
   "outputs": [
    {
     "data": {
      "text/plain": [
       "'nohtyp 543@ 321 eceneics atad'"
      ]
     },
     "execution_count": 70,
     "metadata": {},
     "output_type": "execute_result"
    }
   ],
   "source": [
    "l[-1::-1]"
   ]
  },
  {
   "cell_type": "code",
   "execution_count": 77,
   "id": "992ef9c3",
   "metadata": {},
   "outputs": [
    {
     "data": {
      "text/plain": [
       "'nohtyp 543@ 321 eceneics atad'"
      ]
     },
     "execution_count": 77,
     "metadata": {},
     "output_type": "execute_result"
    }
   ],
   "source": [
    "l[::-1]"
   ]
  },
  {
   "cell_type": "code",
   "execution_count": 79,
   "id": "a82a2274",
   "metadata": {},
   "outputs": [],
   "source": [
    "o = \"Python is Very Fun and I am Learning This\""
   ]
  },
  {
   "cell_type": "code",
   "execution_count": 80,
   "id": "0f7d1f1e",
   "metadata": {},
   "outputs": [
    {
     "data": {
      "text/plain": [
       "'python is very fun and i am learning this'"
      ]
     },
     "execution_count": 80,
     "metadata": {},
     "output_type": "execute_result"
    }
   ],
   "source": [
    "o.lower()"
   ]
  },
  {
   "cell_type": "code",
   "execution_count": 82,
   "id": "ddfbe549",
   "metadata": {},
   "outputs": [
    {
     "data": {
      "text/plain": [
       "'PYTHON IS VERY FUN AND I AM LEARNING THIS'"
      ]
     },
     "execution_count": 82,
     "metadata": {},
     "output_type": "execute_result"
    }
   ],
   "source": [
    "o.upper()"
   ]
  },
  {
   "cell_type": "code",
   "execution_count": 83,
   "id": "e9e204ab",
   "metadata": {},
   "outputs": [
    {
     "data": {
      "text/plain": [
       "'Python is very fun and i am learning this'"
      ]
     },
     "execution_count": 83,
     "metadata": {},
     "output_type": "execute_result"
    }
   ],
   "source": [
    "o.capitalize()"
   ]
  },
  {
   "cell_type": "code",
   "execution_count": 84,
   "id": "44c1338b",
   "metadata": {},
   "outputs": [
    {
     "data": {
      "text/plain": [
       "'Python Is Very Fun And I Am Learning This'"
      ]
     },
     "execution_count": 84,
     "metadata": {},
     "output_type": "execute_result"
    }
   ],
   "source": [
    "o.title()"
   ]
  },
  {
   "cell_type": "code",
   "execution_count": 85,
   "id": "b9acfcaf",
   "metadata": {},
   "outputs": [
    {
     "name": "stdout",
     "output_type": "stream",
     "text": [
      "enter your name :             Sanjay           \n"
     ]
    }
   ],
   "source": [
    "name = input(\"enter your name :\")"
   ]
  },
  {
   "cell_type": "code",
   "execution_count": 86,
   "id": "a8d1a6f8",
   "metadata": {},
   "outputs": [
    {
     "data": {
      "text/plain": [
       "'             Sanjay           '"
      ]
     },
     "execution_count": 86,
     "metadata": {},
     "output_type": "execute_result"
    }
   ],
   "source": [
    "name"
   ]
  },
  {
   "cell_type": "code",
   "execution_count": 87,
   "id": "06545c09",
   "metadata": {},
   "outputs": [
    {
     "data": {
      "text/plain": [
       "30"
      ]
     },
     "execution_count": 87,
     "metadata": {},
     "output_type": "execute_result"
    }
   ],
   "source": [
    "len(name)"
   ]
  },
  {
   "cell_type": "code",
   "execution_count": 88,
   "id": "520cf50e",
   "metadata": {},
   "outputs": [
    {
     "data": {
      "text/plain": [
       "'Sanjay           '"
      ]
     },
     "execution_count": 88,
     "metadata": {},
     "output_type": "execute_result"
    }
   ],
   "source": [
    "name.lstrip()"
   ]
  },
  {
   "cell_type": "code",
   "execution_count": 89,
   "id": "67e76bc6",
   "metadata": {},
   "outputs": [
    {
     "data": {
      "text/plain": [
       "'             Sanjay'"
      ]
     },
     "execution_count": 89,
     "metadata": {},
     "output_type": "execute_result"
    }
   ],
   "source": [
    "name.rstrip()"
   ]
  },
  {
   "cell_type": "code",
   "execution_count": 91,
   "id": "c2d9f235",
   "metadata": {},
   "outputs": [],
   "source": [
    "name = name.strip()"
   ]
  },
  {
   "cell_type": "code",
   "execution_count": 92,
   "id": "eccbbf8a",
   "metadata": {},
   "outputs": [
    {
     "data": {
      "text/plain": [
       "'Sanjay'"
      ]
     },
     "execution_count": 92,
     "metadata": {},
     "output_type": "execute_result"
    }
   ],
   "source": [
    "name"
   ]
  },
  {
   "cell_type": "code",
   "execution_count": 97,
   "id": "fafa2a66",
   "metadata": {},
   "outputs": [
    {
     "data": {
      "text/plain": [
       "'data scienece 123 @345 python'"
      ]
     },
     "execution_count": 97,
     "metadata": {},
     "output_type": "execute_result"
    }
   ],
   "source": [
    "l"
   ]
  },
  {
   "cell_type": "code",
   "execution_count": 102,
   "id": "04bcfcf3",
   "metadata": {},
   "outputs": [
    {
     "data": {
      "text/plain": [
       "5"
      ]
     },
     "execution_count": 102,
     "metadata": {},
     "output_type": "execute_result"
    }
   ],
   "source": [
    "l.find(\"scienece\")"
   ]
  },
  {
   "cell_type": "code",
   "execution_count": 103,
   "id": "d0ba6547",
   "metadata": {},
   "outputs": [
    {
     "data": {
      "text/plain": [
       "-1"
      ]
     },
     "execution_count": 103,
     "metadata": {},
     "output_type": "execute_result"
    }
   ],
   "source": [
    "l.find(\"computer\")"
   ]
  },
  {
   "cell_type": "code",
   "execution_count": 104,
   "id": "e877c268",
   "metadata": {},
   "outputs": [
    {
     "data": {
      "text/plain": [
       "'data scienece 123 @345 python'"
      ]
     },
     "execution_count": 104,
     "metadata": {},
     "output_type": "execute_result"
    }
   ],
   "source": [
    "l"
   ]
  },
  {
   "cell_type": "code",
   "execution_count": 107,
   "id": "368c30a1",
   "metadata": {},
   "outputs": [
    {
     "data": {
      "text/plain": [
       "['data scie', 'ece 123 @345 pytho', '']"
      ]
     },
     "execution_count": 107,
     "metadata": {},
     "output_type": "execute_result"
    }
   ],
   "source": [
    "l.split('n')"
   ]
  },
  {
   "cell_type": "code",
   "execution_count": 109,
   "id": "1fede686",
   "metadata": {},
   "outputs": [
    {
     "data": {
      "text/plain": [
       "1"
      ]
     },
     "execution_count": 109,
     "metadata": {},
     "output_type": "execute_result"
    }
   ],
   "source": [
    "l.count('python')"
   ]
  },
  {
   "cell_type": "code",
   "execution_count": 112,
   "id": "5f81fa5a",
   "metadata": {},
   "outputs": [],
   "source": [
    "l = l.replace(\"python\", \"sql\")"
   ]
  },
  {
   "cell_type": "code",
   "execution_count": 113,
   "id": "f4d7b7ef",
   "metadata": {},
   "outputs": [
    {
     "data": {
      "text/plain": [
       "'data scienece 123 @345 sql'"
      ]
     },
     "execution_count": 113,
     "metadata": {},
     "output_type": "execute_result"
    }
   ],
   "source": [
    "l"
   ]
  },
  {
   "cell_type": "code",
   "execution_count": 116,
   "id": "127f4343",
   "metadata": {},
   "outputs": [],
   "source": [
    "s = \"sanjay\" \n",
    "k = \"kumar\""
   ]
  },
  {
   "cell_type": "code",
   "execution_count": 122,
   "id": "6947d2cd",
   "metadata": {},
   "outputs": [
    {
     "data": {
      "text/plain": [
       "'sanjay _ kumar'"
      ]
     },
     "execution_count": 122,
     "metadata": {},
     "output_type": "execute_result"
    }
   ],
   "source": [
    "s + \" _ \" + k"
   ]
  },
  {
   "cell_type": "code",
   "execution_count": 124,
   "id": "6f028ba9",
   "metadata": {},
   "outputs": [
    {
     "data": {
      "text/plain": [
       "'sanjay123'"
      ]
     },
     "execution_count": 124,
     "metadata": {},
     "output_type": "execute_result"
    }
   ],
   "source": [
    "s + str(123)"
   ]
  },
  {
   "cell_type": "code",
   "execution_count": 125,
   "id": "d898e044",
   "metadata": {},
   "outputs": [
    {
     "data": {
      "text/plain": [
       "'datadatadatadatadatadatadatadatadatadata'"
      ]
     },
     "execution_count": 125,
     "metadata": {},
     "output_type": "execute_result"
    }
   ],
   "source": [
    "\"data\" *10"
   ]
  },
  {
   "cell_type": "code",
   "execution_count": 126,
   "id": "87cc645a",
   "metadata": {},
   "outputs": [
    {
     "data": {
      "text/plain": [
       "120"
      ]
     },
     "execution_count": 126,
     "metadata": {},
     "output_type": "execute_result"
    }
   ],
   "source": [
    "12*10"
   ]
  },
  {
   "cell_type": "code",
   "execution_count": 128,
   "id": "46bb85e0",
   "metadata": {},
   "outputs": [],
   "source": [
    "#Find the Number of vowels in a given string"
   ]
  },
  {
   "cell_type": "code",
   "execution_count": 144,
   "id": "ef2333ca",
   "metadata": {},
   "outputs": [],
   "source": [
    "inp_str = \"This is an Input string to count vowels and python is very easy and we will be learning data scinence.\""
   ]
  },
  {
   "cell_type": "code",
   "execution_count": 146,
   "id": "71501f76",
   "metadata": {},
   "outputs": [
    {
     "name": "stdout",
     "output_type": "stream",
     "text": [
      "The number of vowels are 29\n"
     ]
    }
   ],
   "source": [
    "counter_ = 0\n",
    "for i in inp_str:\n",
    "    if i in \"aeiouAEIOU\":\n",
    "        counter_+=1\n",
    "        \n",
    "print(\"The number of vowels are {}\".format(counter_))"
   ]
  },
  {
   "cell_type": "code",
   "execution_count": null,
   "id": "bb232cf4",
   "metadata": {},
   "outputs": [],
   "source": []
  },
  {
   "cell_type": "code",
   "execution_count": 149,
   "id": "d218cb1d",
   "metadata": {},
   "outputs": [
    {
     "name": "stdout",
     "output_type": "stream",
     "text": [
      "enter any string : level\n"
     ]
    }
   ],
   "source": [
    "pali = input(\"enter any string : \")"
   ]
  },
  {
   "cell_type": "code",
   "execution_count": 150,
   "id": "e42feeda",
   "metadata": {},
   "outputs": [],
   "source": [
    "#Q - 2 : Check whether a given string is palindrome or not?\n"
   ]
  },
  {
   "cell_type": "code",
   "execution_count": 153,
   "id": "deb0b59b",
   "metadata": {},
   "outputs": [
    {
     "name": "stdout",
     "output_type": "stream",
     "text": [
      "Enter any string: python\n"
     ]
    }
   ],
   "source": [
    "pali = input(\"Enter any string: \")"
   ]
  },
  {
   "cell_type": "code",
   "execution_count": 154,
   "id": "7c1c0f9d",
   "metadata": {},
   "outputs": [],
   "source": [
    "rev_string = pali[::-1]"
   ]
  },
  {
   "cell_type": "code",
   "execution_count": 155,
   "id": "b7e05622",
   "metadata": {},
   "outputs": [
    {
     "data": {
      "text/plain": [
       "'nohtyp'"
      ]
     },
     "execution_count": 155,
     "metadata": {},
     "output_type": "execute_result"
    }
   ],
   "source": [
    "rev_string"
   ]
  },
  {
   "cell_type": "code",
   "execution_count": null,
   "id": "e3a12110",
   "metadata": {},
   "outputs": [],
   "source": []
  },
  {
   "cell_type": "code",
   "execution_count": 161,
   "id": "cdaeb32e",
   "metadata": {},
   "outputs": [
    {
     "name": "stdout",
     "output_type": "stream",
     "text": [
      "Enter any string: level\n",
      "String is Palindrome level\n"
     ]
    }
   ],
   "source": [
    "pali = input(\"Enter any string: \")\n",
    "rev_string = pali[::-1]\n",
    "\n",
    "if pali == rev_string:\n",
    "    print(\"String is Palindrome {}\".format(pali))\n",
    "else:\n",
    "    print(\"String is not a plindrome {}\".format(pali))\n"
   ]
  },
  {
   "cell_type": "code",
   "execution_count": null,
   "id": "d96bffbf",
   "metadata": {},
   "outputs": [],
   "source": []
  },
  {
   "cell_type": "code",
   "execution_count": 168,
   "id": "79807522",
   "metadata": {},
   "outputs": [
    {
     "name": "stdout",
     "output_type": "stream",
     "text": [
      "Enter any string: madam\n"
     ]
    }
   ],
   "source": [
    "pali = input(\"Enter any string: \")"
   ]
  },
  {
   "cell_type": "code",
   "execution_count": 171,
   "id": "9fba935b",
   "metadata": {},
   "outputs": [
    {
     "name": "stdout",
     "output_type": "stream",
     "text": [
      "String is Palindrome madam\n"
     ]
    }
   ],
   "source": [
    "start = 0\n",
    "end = len(pali)-1\n",
    "\n",
    "is_palindrome = True\n",
    "\n",
    "while (start<=end):\n",
    "    if pali[start] != pali[end]:\n",
    "        is_palindrome = False\n",
    "        break\n",
    "        \n",
    "    start+=1\n",
    "    end-=1\n",
    "    \n",
    "    \n",
    "if is_palindrome:\n",
    "    print(\"String is Palindrome {}\".format(pali))\n",
    "else:\n",
    "    print(\"String is not a plindrome {}\".format(pali))\n",
    "    \n",
    "    \n",
    "    \n",
    "    \n",
    "        "
   ]
  },
  {
   "cell_type": "code",
   "execution_count": 164,
   "id": "f8d9817c",
   "metadata": {},
   "outputs": [
    {
     "data": {
      "text/plain": [
       "0"
      ]
     },
     "execution_count": 164,
     "metadata": {},
     "output_type": "execute_result"
    }
   ],
   "source": [
    "start"
   ]
  },
  {
   "cell_type": "code",
   "execution_count": 165,
   "id": "3147e3a1",
   "metadata": {},
   "outputs": [
    {
     "data": {
      "text/plain": [
       "5"
      ]
     },
     "execution_count": 165,
     "metadata": {},
     "output_type": "execute_result"
    }
   ],
   "source": [
    "end"
   ]
  },
  {
   "cell_type": "code",
   "execution_count": null,
   "id": "01cd7797",
   "metadata": {},
   "outputs": [],
   "source": []
  },
  {
   "cell_type": "code",
   "execution_count": null,
   "id": "c5eeb4db",
   "metadata": {},
   "outputs": [],
   "source": []
  },
  {
   "cell_type": "code",
   "execution_count": null,
   "id": "75694cd8",
   "metadata": {},
   "outputs": [],
   "source": []
  },
  {
   "cell_type": "code",
   "execution_count": null,
   "id": "da469952",
   "metadata": {},
   "outputs": [],
   "source": []
  },
  {
   "cell_type": "code",
   "execution_count": null,
   "id": "47911a8f",
   "metadata": {},
   "outputs": [],
   "source": []
  },
  {
   "cell_type": "code",
   "execution_count": null,
   "id": "f3de017d",
   "metadata": {},
   "outputs": [],
   "source": []
  },
  {
   "cell_type": "code",
   "execution_count": 137,
   "id": "07ec181e",
   "metadata": {},
   "outputs": [],
   "source": [
    "inp_str = \"This is an Input string to count vowels and python is very easy.\"\n",
    "#count the number of vowels in a given string\n",
    "a= inp_str.count('a')\n",
    "\n",
    "e= inp_str.count('e')\n",
    "\n",
    "i= inp_str.count('i')\n",
    "\n",
    "o= inp_str.count('o')\n",
    "\n",
    "u= inp_str.count('u')\n",
    "\n",
    "t= a+e+i+o+u"
   ]
  },
  {
   "cell_type": "code",
   "execution_count": 138,
   "id": "cf12e7ae",
   "metadata": {},
   "outputs": [
    {
     "data": {
      "text/plain": [
       "16"
      ]
     },
     "execution_count": 138,
     "metadata": {},
     "output_type": "execute_result"
    }
   ],
   "source": [
    "t"
   ]
  },
  {
   "cell_type": "code",
   "execution_count": 131,
   "id": "f8814965",
   "metadata": {},
   "outputs": [],
   "source": [
    "inp_str = \"This is an Input string to count vowels and python is very easy.\""
   ]
  },
  {
   "cell_type": "code",
   "execution_count": 134,
   "id": "b71aaeed",
   "metadata": {},
   "outputs": [],
   "source": [
    "a= inp_str.count('a')"
   ]
  },
  {
   "cell_type": "code",
   "execution_count": 135,
   "id": "c3723e8f",
   "metadata": {},
   "outputs": [
    {
     "data": {
      "text/plain": [
       "3"
      ]
     },
     "execution_count": 135,
     "metadata": {},
     "output_type": "execute_result"
    }
   ],
   "source": [
    "a"
   ]
  },
  {
   "cell_type": "code",
   "execution_count": null,
   "id": "870c989b",
   "metadata": {},
   "outputs": [],
   "source": []
  }
 ],
 "metadata": {
  "kernelspec": {
   "display_name": "Python 3",
   "language": "python",
   "name": "python3"
  },
  "language_info": {
   "codemirror_mode": {
    "name": "ipython",
    "version": 3
   },
   "file_extension": ".py",
   "mimetype": "text/x-python",
   "name": "python",
   "nbconvert_exporter": "python",
   "pygments_lexer": "ipython3",
   "version": "3.8.8"
  }
 },
 "nbformat": 4,
 "nbformat_minor": 5
}
